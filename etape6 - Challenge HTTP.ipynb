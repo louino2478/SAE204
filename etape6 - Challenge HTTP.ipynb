{
 "cells": [
  {
   "cell_type": "markdown",
   "id": "36af7618",
   "metadata": {},
   "source": [
    "# etape 6 - challenge HTTP"
   ]
  },
  {
   "cell_type": "code",
   "execution_count": null,
   "id": "fef69152",
   "metadata": {},
   "outputs": [],
   "source": [
    "from scapy.all import *\n",
    "\n",
    "identifiant = \"\"\n",
    "\n",
    "def extractlogin(line):\n",
    "    global identifiant\n",
    "    if \"Authorization: Basic\" in line:\n",
    "        identifiant = line[21:]\n",
    "    if \"HTTP/1.1 \" in line:\n",
    "        code = int(line[9:12])\n",
    "        if code == 200 and identifiant != \"\":\n",
    "            identifiantdecode = base64.b64decode(identifiant).decode()\n",
    "            identifiant = \"\"\n",
    "            identifiantdecode = identifiantdecode.split(\":\")\n",
    "            print(f\"login : {identifiantdecode[0]}\")\n",
    "            print(f\"password : {identifiantdecode[1]}\")\n",
    "\n",
    "def findhttp(trame):\n",
    "    if trame.haslayer(TCP) and trame.haslayer(Raw):\n",
    "        if trame[TCP].dport == 80 or trame[TCP].sport == 80:\n",
    "            data = trame[Raw].load.decode('utf-8', errors='ignore')\n",
    "            for line in data.split('\\n'):\n",
    "                extractlogin(line)\n",
    "\n",
    "\n",
    "# Lecture du fichier et boucle principale:\n",
    "for trame in rdpcap(\"Capture/www-total.pcapng\"):\n",
    "    findhttp(trame)\n",
    "\n",
    "# Pour capturer les sessions Telnet en temps réel:\n",
    "#sniff(filter=\"tcp\", prn=findTelnetpacket)"
   ]
  }
 ],
 "metadata": {
  "kernelspec": {
   "display_name": "base",
   "language": "python",
   "name": "python3"
  },
  "language_info": {
   "codemirror_mode": {
    "name": "ipython",
    "version": 3
   },
   "file_extension": ".py",
   "mimetype": "text/x-python",
   "name": "python",
   "nbconvert_exporter": "python",
   "pygments_lexer": "ipython3",
   "version": "3.12.7"
  }
 },
 "nbformat": 4,
 "nbformat_minor": 5
}
