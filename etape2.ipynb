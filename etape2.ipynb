{
 "cells": [
  {
   "cell_type": "markdown",
   "id": "76ab51a3",
   "metadata": {},
   "source": [
    "# Etape 2: Exemple du Ping6\n",
    "\n",
    "Nous ouvrons le fichier *ping6-total.pcapng* avec Wireshark. Un filtre `icmpv6` est appliqué pour afficher uniquement les paquets de Neighbor Discovery ainsi que les échanges Echo (request + reply). Le résultat est enregistré dans un fichier *ping6-display.pcapng*  \n",
    "\n",
    "\n",
    "Machine source (initie le ping) : 2001:660:6701:30cc:84fc:c335:133c:f204  \n",
    "Machine cible : 2001:660:6701:30cc::1\n",
    "\n",
    "Trame ND Neighbor Solicitation :  \n",
    "•En-tête Ethernet  \n",
    "• Adresse MAC Source: 64:00:6a:6a:c4:01  \n",
    "• Adresse MAC Destination: 33:33:ff:00:00:01  \n",
    "•En-tête IPv6  \n",
    "• Adresse IP Source: 2001:660:6701:30cc:84fc:c335:133c:f204  \n",
    "• Adresse IP Destination: ff02::1:ff00:1  \n",
    "•En-tête du paquet ICMP/ND  \n",
    "• Adresse IP Cible: 2001:660:6701:30cc::1  \n",
    "• Adresse MAC: 64:00:6a:6a:c4:01  "
   ]
  },
  {
   "cell_type": "code",
   "execution_count": 2,
   "id": "3428b10d",
   "metadata": {},
   "outputs": [
    {
     "name": "stdout",
     "output_type": "stream",
     "text": [
      "Voici les trames capturées :\n",
      "\n",
      "0000 Ether / IPv6 / ICMPv6ND_NS / ICMPv6 Neighbor Discovery Option - Source Link-Layer Address 64:00:6a:6a:c4:01\n",
      "0001 Ether / IPv6 / ICMPv6ND_NA / ICMPv6 Neighbor Discovery Option - Destination Link-Layer Address 00:13:1a:a3:e1:18\n",
      "0002 Ether / IPv6 / ICMPv6 Echo Request (id: 0x4 seq: 0x1)\n",
      "0003 Ether / IPv6 / ICMPv6 Echo Reply (id: 0x4 seq: 0x1)\n",
      "0004 Ether / IPv6 / ICMPv6 Echo Request (id: 0x4 seq: 0x2)\n",
      "0005 Ether / IPv6 / ICMPv6 Echo Reply (id: 0x4 seq: 0x2)\n",
      "0006 Ether / IPv6 / ICMPv6 Echo Request (id: 0x4 seq: 0x3)\n",
      "0007 Ether / IPv6 / ICMPv6 Echo Reply (id: 0x4 seq: 0x3)\n",
      "0008 Ether / IPv6 / ICMPv6 Echo Request (id: 0x4 seq: 0x4)\n",
      "0009 Ether / IPv6 / ICMPv6 Echo Reply (id: 0x4 seq: 0x4)\n",
      "0010 Ether / IPv6 / ICMPv6 Echo Request (id: 0x4 seq: 0x5)\n",
      "0011 Ether / IPv6 / ICMPv6 Echo Reply (id: 0x4 seq: 0x5)\n",
      "0012 Ether / IPv6 / ICMPv6 Echo Request (id: 0x4 seq: 0x6)\n",
      "0013 Ether / IPv6 / ICMPv6 Echo Reply (id: 0x4 seq: 0x6)\n"
     ]
    }
   ],
   "source": [
    "from scapy.all import *\n",
    "trames=rdpcap(\"capture/ping6-display.pcapng\")\n",
    "print(\"Voici les trames capturées :\\n\")\n",
    "trames.show()"
   ]
  },
  {
   "cell_type": "code",
   "execution_count": null,
   "id": "a0098b30",
   "metadata": {},
   "outputs": [
    {
     "data": {
      "text/plain": [
       "<Ether  dst=33:33:ff:00:00:01 src=64:00:6a:6a:c4:01 type=IPv6 |<IPv6  version=6 tc=0 fl=0 plen=32 nh=ICMPv6 hlim=255 src=2001:660:6701:30cc:84fc:c335:133c:f204 dst=ff02::1:ff00:1 |<ICMPv6ND_NS  type=Neighbor Solicitation code=0 cksum=0x1d60 res=0 tgt=2001:660:6701:30cc::1 |<ICMPv6NDOptSrcLLAddr  type=1 len=1 lladdr=64:00:6a:6a:c4:01 |>>>>"
      ]
     },
     "execution_count": 4,
     "metadata": {},
     "output_type": "execute_result"
    }
   ],
   "source": [
    "# On affiche les infos de la 1er trame (les infos de toutes les couches en partant de la couche 2)\n",
    "trames[0]"
   ]
  },
  {
   "cell_type": "code",
   "execution_count": null,
   "id": "d0da84ab",
   "metadata": {},
   "outputs": [
    {
     "data": {
      "text/plain": [
       "<IPv6  version=6 tc=0 fl=0 plen=32 nh=ICMPv6 hlim=255 src=2001:660:6701:30cc:84fc:c335:133c:f204 dst=ff02::1:ff00:1 |<ICMPv6ND_NS  type=Neighbor Solicitation code=0 cksum=0x1d60 res=0 tgt=2001:660:6701:30cc::1 |<ICMPv6NDOptSrcLLAddr  type=1 len=1 lladdr=64:00:6a:6a:c4:01 |>>>"
      ]
     },
     "execution_count": 9,
     "metadata": {},
     "output_type": "execute_result"
    }
   ],
   "source": [
    "# On affiche les infos du 1er paquet (les infos de toutes les couches en partant de la couche 3)\n",
    "trames[0][IPv6]"
   ]
  },
  {
   "cell_type": "code",
   "execution_count": null,
   "id": "145c44e7",
   "metadata": {},
   "outputs": [
    {
     "data": {
      "text/plain": [
       "'ff02::1:ff00:1'"
      ]
     },
     "execution_count": 14,
     "metadata": {},
     "output_type": "execute_result"
    }
   ],
   "source": [
    "# On affiche l'IP de destination du 1er paquet\n",
    "trames[0][IPv6].dst # On obtient l'IPv6 multicast local de destination du paquet ND NS "
   ]
  },
  {
   "cell_type": "markdown",
   "id": "59687c97",
   "metadata": {},
   "source": [
    "## Automatisation du processus ICMPv6\n",
    "\n",
    "L’ensemble des trames capturées dans le fichier pcap est chargé dans la variable `trames`.  \n",
    "Pour chaque trame, on sélectionne (via des conditions if) uniquement les paquets IPv6 contenant un message ICMPv6 (Next Header = 58) ET dont le type est Neighbor Solicitation (type = 135).  \n",
    "Les informations utiles sont ensuite extraites.  \n",
    "Dans notre exemple, un seul paquet est retenu."
   ]
  },
  {
   "cell_type": "code",
   "execution_count": 3,
   "id": "0064548d",
   "metadata": {},
   "outputs": [
    {
     "name": "stdout",
     "output_type": "stream",
     "text": [
      "Ethernet: MAC Source : 64:00:6a:6a:c4:01\n",
      "Ethernet: MAC Destination : 33:33:ff:00:00:01\n",
      "IPv6 : IP Source : 2001:660:6701:30cc:84fc:c335:133c:f204\n",
      "IPv6 : IP Destination : ff02::1:ff00:1\n",
      "ICMPv6 : IP Cible : 2001:660:6701:30cc::1\n",
      "ICMPv6 : MAC Demandeur : 64:00:6a:6a:c4:01\n"
     ]
    }
   ],
   "source": [
    "listetrames = rdpcap(\"capture/ping6-total.pcapng\")\n",
    "for trame in listetrames:\n",
    "    try:\n",
    "        if (trame.version) == 6: # C'est de l'IPv6 ?\n",
    "            if (trame[IPv6].nh) == 58: # C'est de l'ICMPv6 ?\n",
    "                if (trame[0][2].type) == 135: # C'est une ND NS ?\n",
    "                    print(f\"Ethernet: MAC Source : {trame[0][0].src}\")\n",
    "                    print(f\"Ethernet: MAC Destination : {trame[0][0].dst}\")\n",
    "                    print(f\"IPv6 : IP Source : {trame[0][1].src}\")\n",
    "                    print(f\"IPv6 : IP Destination : {trame[0][1].dst}\")\n",
    "                    print(f\"ICMPv6 : IP Cible : {trame[0][2].tgt}\")\n",
    "                    print(f\"ICMPv6 : MAC Demandeur : {trame[0][3].lladdr}\")\n",
    "    except Exception: # Si c'est un paquet ARP ou autre qui n'a pas de champ version, on ignore et passe au prochain paquet\n",
    "        pass"
   ]
  },
  {
   "cell_type": "markdown",
   "id": "40037f94",
   "metadata": {},
   "source": [
    "# Sniffer le reseau en temps reél"
   ]
  },
  {
   "cell_type": "code",
   "execution_count": null,
   "id": "91bf64fd",
   "metadata": {},
   "outputs": [
    {
     "name": "stdout",
     "output_type": "stream",
     "text": [
      "On commence le 'sniffing' sur la carte \\Device\\NPF_{F5E07108-4D29-43ED-AF37-D6696A4CFC11}:\n",
      "\n",
      "\n",
      "Ether / IPv6 / ICMPv6 Echo Request (id: 0x1 seq: 0x1)\n",
      "TYPE PACKET ICMP : Echo-Request\n",
      "Ethernet: MAC Source : 3c:0a:f3:24:fd:c7\n",
      "Ethernet: MAC Destination : 10:e9:92:9a:35:f0\n",
      "IPv6 : IP Source : fe80::208d:7fe9:28da:4e07\n",
      "IPv6 : IP Destination : fe80::12e9:92ff:fe9a:35f0\n",
      "\n",
      "\n",
      "Ether / IPv6 / ICMPv6ND_NS / ICMPv6 Neighbor Discovery Option - Source Link-Layer Address 10:e9:92:9a:35:f0\n",
      "TYPE PACKET ICMP : Neighbor Solicitation\n",
      "Ethernet: MAC Source : 10:e9:92:9a:35:f0\n",
      "Ethernet: MAC Destination : 33:33:ff:da:4e:07\n",
      "IPv6 : IP Source : fe80::12e9:92ff:fe9a:35f0\n",
      "IPv6 : IP Destination : ff02::1:ffda:4e07\n",
      "ICMPv6 : IP Target : fe80::208d:7fe9:28da:4e07\n",
      "ICMPv6 : MAC Requested : 10:e9:92:9a:35:f0\n",
      "\n",
      "\n",
      "Ether / IPv6 / ICMPv6ND_NA / ICMPv6 Neighbor Discovery Option - Destination Link-Layer Address 3c:0a:f3:24:fd:c7\n",
      "TYPE PACKET ICMP : Neighbor Advertisement\n",
      "Ethernet: MAC Source : 3c:0a:f3:24:fd:c7\n",
      "Ethernet: MAC Destination : 10:e9:92:9a:35:f0\n",
      "IPv6 : IP Source : fe80::208d:7fe9:28da:4e07\n",
      "IPv6 : IP Destination : fe80::12e9:92ff:fe9a:35f0\n",
      "ICMPv6 : IP Target : fe80::208d:7fe9:28da:4e07\n",
      "ICMPv6 : MAC Requested : 3c:0a:f3:24:fd:c7\n",
      "\n",
      "\n",
      "Ether / IPv6 / ICMPv6 Echo Reply (id: 0x1 seq: 0x1)\n",
      "TYPE PACKET ICMP : Echo-Reply\n",
      "Ethernet: MAC Source : 10:e9:92:9a:35:f0\n",
      "Ethernet: MAC Destination : 3c:0a:f3:24:fd:c7\n",
      "IPv6 : IP Source : fe80::12e9:92ff:fe9a:35f0\n",
      "IPv6 : IP Destination : fe80::208d:7fe9:28da:4e07\n",
      "\n",
      "\n",
      "Ether / IPv6 / ICMPv6 Echo Request (id: 0x1 seq: 0x2)\n",
      "TYPE PACKET ICMP : Echo-Request\n",
      "Ethernet: MAC Source : 3c:0a:f3:24:fd:c7\n",
      "Ethernet: MAC Destination : 10:e9:92:9a:35:f0\n",
      "IPv6 : IP Source : fe80::208d:7fe9:28da:4e07\n",
      "IPv6 : IP Destination : fe80::12e9:92ff:fe9a:35f0\n",
      "\n",
      "\n",
      "Ether / IPv6 / ICMPv6 Echo Reply (id: 0x1 seq: 0x2)\n",
      "TYPE PACKET ICMP : Echo-Reply\n",
      "Ethernet: MAC Source : 10:e9:92:9a:35:f0\n",
      "Ethernet: MAC Destination : 3c:0a:f3:24:fd:c7\n",
      "IPv6 : IP Source : fe80::12e9:92ff:fe9a:35f0\n",
      "IPv6 : IP Destination : fe80::208d:7fe9:28da:4e07\n",
      "\n",
      "\n"
     ]
    },
    {
     "data": {
      "text/plain": [
       "<Sniffed: TCP:0 UDP:0 ICMP:0 Other:0>"
      ]
     },
     "execution_count": 41,
     "metadata": {},
     "output_type": "execute_result"
    }
   ],
   "source": [
    "from scapy.all import *\n",
    "ICMPv6_types = {128: 'Echo-Request', 129: 'Echo-Reply', 135: 'Neighbor Solicitation', 136: 'Neighbor Advertisement', 133: 'Router Solicitation', 134: 'Router Advertisement'}\n",
    "def print_icmpv6(trame): # Fonction pour afficher les informations de la trame\n",
    "    print(trame.summary()) # On affiche la liste des encapsulations du paquet (Ethernet/IPv6/ICMPv6ND_NS)\n",
    "    type = trame[2].type # Dans la couche IP, on extrait le type de données (au-dessus de la couche IP)\n",
    "    if (type == 135 or type == 136): # Si le type est 135 ou 136, c'est-à-dire si c'est un \"Neighbor Solicitation\" ou \"Neighbor Advertisement\"\n",
    "        print(f\"TYPE PACKET ICMP : {ICMPv6_types[type]}\") # Type de message ICMP\n",
    "        print(f\"Ethernet: MAC Source : {trame[0].src}\") # Adresse MAC source en accédant à la couche Ethernet.\n",
    "        print(f\"Ethernet: MAC Destination : {trame[0].dst}\") # Adresse MAC destination en accédant à la couche Ethernet.\n",
    "        print(f\"IPv6 : IP Source : {trame[1].src}\") # Adresse source IPv6 en accédant à la couche IPv6.\n",
    "        print(f\"IPv6 : IP Destination : {trame[1].dst}\") # Adresse de destination IPv6 en accédant à la couche IPv6.\n",
    "        print(f\"ICMPv6 : IP Cible : {trame[2].tgt}\") # Adresse cible (target) demandée dans le paquet ICMPv6.\n",
    "        print(f\"ICMPv6 : MAC Demandeur : {trame[2].lladdr}\") # Adresse MAC demandée (par Neighbor Solicitation) fournie par le Neighbor Advertisement\n",
    "        print(\"\\n\") # Retour à la ligne\n",
    "    else: # Sinon, si c'est un message ICMP \"autre\"\n",
    "        print(f\"TYPE PACKET ICMP : {ICMPv6_types[type]}\") # Type de message ICMP\n",
    "        print(f\"Ethernet: MAC Source : {trame[0].src}\") # Adresse MAC source en accédant à la couche Ethernet.\n",
    "        print(f\"Ethernet: MAC Destination : {trame[0].dst}\") # Adresse MAC destination en accédant à la couche Ethernet.\n",
    "        print(f\"IPv6 : IP Source : {trame[1].src}\") # Adresse de destination IPv6 en accédant à la couche IPv6.\n",
    "        print(f\"IPv6 : IP Destination : {trame[1].dst}\") # Adresse destination IPv6 du paquet.\n",
    "        print(\"\\n\")\n",
    "carte = conf.iface # On récupère l'interface de l'ordinateur\n",
    "print(f\"On commence le 'sniffing' sur la carte {carte}:\")\n",
    "print(\"\\n\")\n",
    "# On sniffe les paquets avec un filtre (uniquement IPV6/ICMP), on récupère 6 paquets.\n",
    "# Pour chaque paquet, on appelle la fonction \"print_icmp\"\n",
    "sniff(filter=\"ip6 proto 58\", prn=print_icmpv6, store=0, iface=carte, count=6)"
   ]
  },
  {
   "cell_type": "markdown",
   "id": "4954c3b2",
   "metadata": {},
   "source": [
    "On observe ici un échange de type ping entre deux machines :  \n",
    "- Le 2ᵉ paquet est une Neighbor Solicitation : `fe80::12e9:92ff:fe9a:35f0` demande l’adresse MAC de `fe80::208d:7fe9:28da:4e07` en diffusant un message ciblé.  \n",
    "- Le 3ᵉ paquet est une Neighbor Advertisement : `fe80::208d:7fe9:28da:4e07` répond à `fe80::12e9:92ff:fe9a:35f0` en communiquant son adresse MAC `3c:0a:f3:24:fd:c7`.  \n",
    "- Les paquets suivants sont les messages ICMP Echo Request et Echo Reply (le ping)."
   ]
  },
  {
   "cell_type": "markdown",
   "id": "1e999daa",
   "metadata": {},
   "source": [
    "## Automatisation du processus IPv4\n",
    "Même principe que précédemment, mais cette fois avec des trames IPv4, à partir du fichier *ping4-total.pcapng*."
   ]
  },
  {
   "cell_type": "code",
   "execution_count": null,
   "id": "788a19bb",
   "metadata": {},
   "outputs": [
    {
     "name": "stdout",
     "output_type": "stream",
     "text": [
      "192.168.2.16 (3c:0a:f3:24:fd:c7) demande l'adresse mac de 192.168.2.12 (requette ARP)\n",
      "192.168.2.12 repond en lui fournissant sont adresse mac 9c:9c:1f:e8:e9:1c a 192.168.2.16 (3c:0a:f3:24:fd:c7) (reponse ARP)\n",
      "192.168.2.16 envoie un ping a 192.168.2.12\n",
      "192.168.2.12 repond aux ping a 192.168.2.16\n",
      "192.168.2.16 envoie un ping a 192.168.2.12\n",
      "192.168.2.12 repond aux ping a 192.168.2.16\n",
      "192.168.2.16 envoie un ping a 192.168.2.12\n",
      "192.168.2.12 repond aux ping a 192.168.2.16\n",
      "192.168.2.16 envoie un ping a 192.168.2.12\n",
      "192.168.2.12 repond aux ping a 192.168.2.16\n"
     ]
    }
   ],
   "source": [
    "from scapy.all import *\n",
    "listetrames = rdpcap(\"capture/ping4-total.pcapng\")\n",
    "for trame in listetrames:\n",
    "    if trame[0].type == 0x0806: # Message ARP\n",
    "        if trame[1].op == 1: # Si le champ opération est à 1 alors c'est une ARP request\n",
    "            print(f\"{trame[1].psrc} ({trame[1].hwsrc}) demande l'adresse MAC de {trame[1].pdst} (requête ARP)\")\n",
    "        else: # Sinon le champ est à 2, c'est une ARP reply.\n",
    "            print(f\"{trame[1].psrc} répond en lui fournissant son adresse MAC {trame[1].hwsrc} à {trame[1].pdst} ({trame[1].hwdst}) (réponse ARP)\")\n",
    "    elif trame[0].type == 0x0800: # Message IPv4\n",
    "        if trame[1].proto == 1: # Message ICMP\n",
    "            if trame[2].type == 8: # ICMP ping request\n",
    "                print(f\"{trame[1].src} envoie un ping à {trame[1].dst}\")\n",
    "            elif trame[2].type == 0: # ICMP ping reply\n",
    "                print(f\"{trame[1].src} répond au ping de {trame[1].dst}\")"
   ]
  },
  {
   "cell_type": "markdown",
   "id": "f14786c7",
   "metadata": {},
   "source": [
    "# Sniffer le reseau en temps réel \n",
    "On reprend le programme précédent et on l’adapte dans une fonction. Cette fonction prend des trames Ethernet en entrée et retourne un message formaté proprement, uniquement si le paquet est de type ICMPv4 ou ARP."
   ]
  },
  {
   "cell_type": "code",
   "execution_count": null,
   "id": "f0d1db37",
   "metadata": {},
   "outputs": [
    {
     "name": "stdout",
     "output_type": "stream",
     "text": [
      "On commence le 'sniffing' sur la carte \\Device\\NPF_{F5E07108-4D29-43ED-AF37-D6696A4CFC11}:\n",
      "\n",
      "\n",
      "192.168.2.16 (3c:0a:f3:24:fd:c7) demande l'adresse mac de 192.168.2.12 (requette ARP)\n",
      "192.168.2.16 (3c:0a:f3:24:fd:c7) demande l'adresse mac de 192.168.2.12 (requette ARP)\n",
      "192.168.2.12 repond en lui fournissant sont adresse mac 9c:9c:1f:e8:e9:1c a 192.168.2.16 (3c:0a:f3:24:fd:c7) (reponse ARP)\n",
      "192.168.2.16 envoie un ping a 192.168.2.12\n",
      "192.168.2.12 repond aux ping a 192.168.2.16\n",
      "192.168.2.16 envoie un ping a 192.168.2.12\n",
      "192.168.2.12 repond aux ping a 192.168.2.16\n",
      "192.168.2.16 envoie un ping a 192.168.2.12\n",
      "192.168.2.12 repond aux ping a 192.168.2.16\n",
      "192.168.2.16 envoie un ping a 192.168.2.12\n",
      "192.168.2.12 repond aux ping a 192.168.2.16\n"
     ]
    },
    {
     "data": {
      "text/plain": [
       "<Sniffed: TCP:0 UDP:0 ICMP:0 Other:0>"
      ]
     },
     "execution_count": 5,
     "metadata": {},
     "output_type": "execute_result"
    }
   ],
   "source": [
    "from scapy.all import *\n",
    "def print_icmpv4(trame): # Fonction pour afficher les informations de la trame\n",
    "    if trame[0].type == 0x0806: # Message ARP\n",
    "        if trame[1].op == 1: # Si le champ opération est à 1 alors c'est une ARP request\n",
    "            print(f\"{trame[1].psrc} ({trame[1].hwsrc}) demande l'adresse MAC de {trame[1].pdst} (requête ARP)\")\n",
    "        else: # Sinon le champ est à 2, c'est une ARP reply.\n",
    "            print(f\"{trame[1].psrc} répond en lui fournissant son adresse MAC {trame[1].hwsrc} à {trame[1].pdst} ({trame[1].hwdst}) (réponse ARP)\")\n",
    "    elif trame[0].type == 0x0800: # Message IPv4\n",
    "        if trame[1].proto == 1: # Message ICMP\n",
    "            if trame[2].type == 8: # ICMP ping request\n",
    "                print(f\"{trame[1].src} envoie un ping à {trame[1].dst}\")\n",
    "            elif trame[2].type == 0: # ICMP ping reply\n",
    "                print(f\"{trame[1].src} répond au ping de {trame[1].dst}\")\n",
    "carte = conf.iface # On récupère l'interface de l'ordinateur\n",
    "print(f\"On commence le 'sniffing' sur la carte {carte}:\")\n",
    "print(\"\\n\")\n",
    "# On sniffe toutes les trames\n",
    "# Pour chaque trame, on appelle la fonction \"print_icmp\"\n",
    "sniff(prn=print_icmpv4, store=0, iface=carte)"
   ]
  },
  {
   "cell_type": "markdown",
   "id": "c9088cab",
   "metadata": {},
   "source": [
    "Dans les deux cas (capture en direct ou fichier), on observe :\n",
    "- Une requête ARP émise par 192.168.2.16, qui cherche à découvrir l’adresse MAC de 192.168.2.12 pour initier un ping.\n",
    "- 192.168.2.16 envoie un broadcast ARP pour connaître l’adresse MAC de 192.168.2.12.\n",
    "- 192.168.2.12 répond avec son adresse MAC.\n",
    "- 192.168.2.16 envoie un message ICMP Echo (ping) à 192.168.2.12, qui répond immédiatement.\n",
    "- Ce ping est répété quatre fois.\n",
    "\n"
   ]
  }
 ],
 "metadata": {
  "kernelspec": {
   "display_name": "base",
   "language": "python",
   "name": "python3"
  },
  "language_info": {
   "codemirror_mode": {
    "name": "ipython",
    "version": 3
   },
   "file_extension": ".py",
   "mimetype": "text/x-python",
   "name": "python",
   "nbconvert_exporter": "python",
   "pygments_lexer": "ipython3",
   "version": "3.12.7"
  }
 },
 "nbformat": 4,
 "nbformat_minor": 5
}
