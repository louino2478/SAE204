{
 "cells": [
  {
   "cell_type": "markdown",
   "metadata": {},
   "source": [
    "# Etape 1: Débuter avec Scapy\n",
    "Dans cette première étape, nous importons le module Scapy et affichons différents paramètres réseau, comme la table de routage ou la passerelle par défaut."
   ]
  },
  {
   "cell_type": "code",
   "execution_count": null,
   "metadata": {},
   "outputs": [],
   "source": [
    "from scapy.all import *\n",
    "print(f\"La version de Scapy est {conf.version}.\")\n",
    "print(f\"\\nL'interface par défaut utilisée pour l'émission et la réception des paquets est {conf.iface}.\")\n",
    "print(f\"\\nLa table de routage utilisée est : \\n {conf.route}.\")\n",
    "print('\\nLa passerelle par défaut est :', conf.route.route(\"0.0.0.0\")[2])"
   ]
  },
  {
   "cell_type": "markdown",
   "metadata": {},
   "source": [
    "Nous commençons par créer un paquet nommé `paquet1`, qui a pour source et destination l'adresse IP `127.0.0.1`. Ce paquet contient un datagramme UDP vide."
   ]
  },
  {
   "cell_type": "code",
   "execution_count": 2,
   "metadata": {},
   "outputs": [
    {
     "name": "stdout",
     "output_type": "stream",
     "text": [
      "###[ IP ]###\n",
      "  version   = 4\n",
      "  ihl       = None\n",
      "  tos       = 0x0\n",
      "  len       = None\n",
      "  id        = 1\n",
      "  flags     = \n",
      "  frag      = 0\n",
      "  ttl       = 64\n",
      "  proto     = udp\n",
      "  chksum    = None\n",
      "  src       = 127.0.0.1\n",
      "  dst       = 127.0.0.1\n",
      "  \\options   \\\n",
      "###[ UDP ]###\n",
      "     sport     = domain\n",
      "     dport     = domain\n",
      "     len       = None\n",
      "     chksum    = None\n",
      "\n"
     ]
    }
   ],
   "source": [
    "paquet1=IP()/UDP()\n",
    "paquet1.show()"
   ]
  },
  {
   "cell_type": "markdown",
   "metadata": {},
   "source": [
    "Ensuite, nous créons une trame Ethernet nommée `frm`, dont l'adresse MAC source est `11:22:33:44:55:66` et l'adresse MAC de destination est `00:0A:1F:3B:4E:64`. Cette trame encapsule un paquet IP envoyé de `192.168.1.1` à l'adresse IP de `www.univ-pau.fr`. Scapy effectue automatiquement une requête DNS pour obtenir l'adresse IP correspondante.  \n",
    "Ce paquet IP contient un segment TCP avec le drapeau `SYN` activé (indiquant une tentative d'établissement de connexion), à destination du port 80 (HTTP). Le paquet contient également une charge utile (payload) en texte brut : \"`C'est vraiment bien Scapy`\""
   ]
  },
  {
   "cell_type": "code",
   "execution_count": 3,
   "metadata": {},
   "outputs": [
    {
     "name": "stdout",
     "output_type": "stream",
     "text": [
      "###[ Ethernet ]###\n",
      "  dst       = 00:0A:1F:3B:4E:64\n",
      "  src       = 11:22:33:44:55:66\n",
      "  type      = IPv4\n",
      "###[ IP ]###\n",
      "     version   = 4\n",
      "     ihl       = None\n",
      "     tos       = 0x0\n",
      "     len       = None\n",
      "     id        = 1\n",
      "     flags     = \n",
      "     frag      = 0\n",
      "     ttl       = 64\n",
      "     proto     = tcp\n",
      "     chksum    = None\n",
      "     src       = 192.168.1.1\n",
      "     dst       = Net(\"www.univ-pau.fr/32\")\n",
      "     \\options   \\\n",
      "###[ TCP ]###\n",
      "        sport     = ftp_data\n",
      "        dport     = http\n",
      "        seq       = 0\n",
      "        ack       = 0\n",
      "        dataofs   = None\n",
      "        reserved  = 0\n",
      "        flags     = SA\n",
      "        window    = 8192\n",
      "        chksum    = None\n",
      "        urgptr    = 0\n",
      "        options   = []\n",
      "###[ Raw ]###\n",
      "           load      = b\"C'est vraiment bien Scapy\"\n",
      "\n",
      "###[ Ethernet ]###\n",
      "  dst       = 00:0a:1f:3b:4e:64\n",
      "  src       = 11:22:33:44:55:66\n",
      "  type      = IPv4\n",
      "###[ IP ]###\n",
      "     version   = 4\n",
      "     ihl       = 5\n",
      "     tos       = 0x0\n",
      "     len       = 65\n",
      "     id        = 1\n",
      "     flags     = \n",
      "     frag      = 0\n",
      "     ttl       = 64\n",
      "     proto     = tcp\n",
      "     chksum    = 0x59de\n",
      "     src       = 192.168.1.1\n",
      "     dst       = 194.167.156.135\n",
      "     \\options   \\\n",
      "###[ TCP ]###\n",
      "        sport     = ftp_data\n",
      "        dport     = http\n",
      "        seq       = 0\n",
      "        ack       = 0\n",
      "        dataofs   = 5\n",
      "        reserved  = 0\n",
      "        flags     = SA\n",
      "        window    = 8192\n",
      "        chksum    = 0x7850\n",
      "        urgptr    = 0\n",
      "        options   = []\n",
      "###[ Raw ]###\n",
      "           load      = b\"C'est vraiment bien Scapy\"\n",
      "\n"
     ]
    }
   ],
   "source": [
    "MACs='11:22:33:44:55:66'\n",
    "MACd='00:0A:1F:3B:4E:64'\n",
    "IPs='192.168.1.1'\n",
    "IPd='www.univ-pau.fr'\n",
    "frm=Ether(src=MACs, dst=MACd)/IP(src=IPs, dst=IPd)/TCP(flags='SA')/\"C'est vraiment bien Scapy\"\n",
    "frm.show()\n",
    "frm.show2()"
   ]
  },
  {
   "cell_type": "markdown",
   "metadata": {},
   "source": [
    "## Lecture d’un fichier PCAPNG et analyse des en-têtes\n",
    "Nous chargeons le fichier *Ping_Google.pcapng*, situé dans le dossier Capture. Cette capture contient 4 paquets."
   ]
  },
  {
   "cell_type": "code",
   "execution_count": 14,
   "metadata": {},
   "outputs": [
    {
     "name": "stdout",
     "output_type": "stream",
     "text": [
      "La capture comprend les paquets suivants :\n",
      "\n",
      "Ether / IP / ICMP 192.168.1.48 > 8.8.8.8 echo-request 0 / Raw\n",
      "Ether / IP / ICMP 8.8.8.8 > 192.168.1.48 echo-reply 0 / Raw\n",
      "Ether / IP / ICMP 192.168.1.48 > 8.8.8.8 echo-request 0 / Raw\n",
      "Ether / IP / ICMP 8.8.8.8 > 192.168.1.48 echo-reply 0 / Raw\n"
     ]
    }
   ],
   "source": [
    "trames=rdpcap(\"Capture/Ping_Google.pcapng\")\n",
    "print(\"La capture comprend les paquets suivants :\\n\")\n",
    "trames.summary()"
   ]
  },
  {
   "cell_type": "code",
   "execution_count": 15,
   "metadata": {},
   "outputs": [
    {
     "name": "stdout",
     "output_type": "stream",
     "text": [
      "contenue de la 1er trame:\n"
     ]
    },
    {
     "data": {
      "text/plain": [
       "<Ether  dst=f4:ca:e5:5d:b5:c8 src=8c:85:90:c5:71:56 type=IPv4 |<IP  version=4 ihl=5 tos=0x0 len=84 id=3173 flags= frag=0 ttl=64 proto=icmp chksum=0x9c5c src=192.168.1.48 dst=8.8.8.8 |<ICMP  type=echo-request code=0 chksum=0xf4cc id=0x5662 seq=0x0 unused=b'' |<Raw  load=b'a\\xc0\\xbd\\xd2\\x00\\x05\\xa25\\x08\\t\\n\\x0b\\x0c\\r\\x0e\\x0f\\x10\\x11\\x12\\x13\\x14\\x15\\x16\\x17\\x18\\x19\\x1a\\x1b\\x1c\\x1d\\x1e\\x1f !\"#$%&\\'()*+,-./01234567' |>>>>"
      ]
     },
     "execution_count": 15,
     "metadata": {},
     "output_type": "execute_result"
    }
   ],
   "source": [
    "print(\"contenue de la 1er trame:\")\n",
    "trames[0]"
   ]
  },
  {
   "cell_type": "code",
   "execution_count": 17,
   "metadata": {},
   "outputs": [
    {
     "name": "stdout",
     "output_type": "stream",
     "text": [
      "MAC source : 8c:85:90:c5:71:56\n",
      "MAC destination : f4:ca:e5:5d:b5:c8\n",
      "ethertype : 2048\n",
      "IP source : 192.168.1.48\n",
      "IP destination : 8.8.8.8\n",
      "protocole id : 1\n",
      "ICMP type id : 8\n",
      "ICMP data : b'!\"#$%&\\'()*+,-./01234567'\n"
     ]
    }
   ],
   "source": [
    "print(f\"MAC source : {trames[0][Ether].src}\")\n",
    "print(f\"MAC destination : {trames[0][Ether].dst}\")\n",
    "print(f\"ethertype : {trames[0][Ether].type}\")\n",
    "print(f\"IP source : {trames[0][IP].src}\")\n",
    "print(f\"IP destination : {trames[0][IP].dst}\")\n",
    "print(f\"protocole id : {trames[0][IP].proto}\")\n",
    "print(f\"ICMP type id : {trames[0][ICMP].type}\")\n",
    "print(f\"ICMP data : {trames[0][Raw].load.split(sep=None)[2]}\")"
   ]
  },
  {
   "cell_type": "markdown",
   "metadata": {},
   "source": [
    "## Requêtte ICMP (ping)\n",
    "Nous construisons ici une requête ICMP de type echo request à destination de l'adresse IP `10.2.12.4` (un serveur sur le reseau de l'IUT).  \n",
    "Cette requête inclut le message texte suivant dans sa charge utile : \"`coucou`\"  \n",
    "Le paquet est ensuite envoyé via l’interface réseau."
   ]
  },
  {
   "cell_type": "code",
   "execution_count": 45,
   "metadata": {},
   "outputs": [
    {
     "name": "stdout",
     "output_type": "stream",
     "text": [
      "RECV 1: IP / ICMP 10.2.12.4 > 10.8.32.245 echo-reply 0 / Raw / Padding\n",
      "RECV 1:  IP / ICMP 10.2.12.4 > 10.8.32.245 echo-reply 0 / Raw / Padding\n",
      "RECV 1:  IP / ICMP 10.2.12.4 > 10.8.32.245 echo-reply 0 / Raw / Padding\n",
      "        \n",
      "Sent 3 packets, received 3 packets. 100.0% hits.\n"
     ]
    },
    {
     "data": {
      "text/plain": [
       "QueryAnswer(query=<IP  frag=0 proto=icmp dst=10.2.12.4 |<ICMP  |<Raw  load=b'coucou' |>>>, answer=<IP  version=4 ihl=5 tos=0x0 len=34 id=52473 flags= frag=0 ttl=62 proto=icmp chksum=0x6edf src=10.2.12.4 dst=10.8.32.245 |<ICMP  type=echo-reply code=0 chksum=0xb7b7 id=0x0 seq=0x0 unused=b'' |<Raw  load=b'coucou' |<Padding  load=b'\\x00\\x00\\x00\\x00\\x00\\x00\\x00\\x00\\x00\\x00\\x00\\x00' |>>>>)"
      ]
     },
     "execution_count": 45,
     "metadata": {},
     "output_type": "execute_result"
    }
   ],
   "source": [
    "ping=IP(dst='10.2.12.4')/ICMP()/\"coucou\"\n",
    "ok, nonok = srloop(ping, count=3, inter=1) # envoie 3 paquets et attend une reponse\n",
    "ok[0] # lecture du 1er paquet reçut"
   ]
  },
  {
   "cell_type": "markdown",
   "metadata": {},
   "source": [
    "## Sniffing de paquets\n",
    "Nous utilisons la fonction `sniff()` pour capturer le trafic réseau, en appliquant un filtre spécifique aux paquets ICMP.  \n",
    "Une fonction personnalisée `print_icmp` est définie pour afficher les informations pertinentes de chaque paquet ICMP capturé, comme l'adresse source, l'adresse de destination, le type de message ICMP, etc."
   ]
  },
  {
   "cell_type": "code",
   "execution_count": null,
   "metadata": {},
   "outputs": [
    {
     "name": "stdout",
     "output_type": "stream",
     "text": [
      "Emission d'un paquet ICMP Echo vers 10.2.12.1\n",
      "Réception d'un paquet ICMP Echo-Reply en provenance de 10.2.12.1\n",
      "Emission d'un paquet ICMP Echo vers 10.2.12.1\n",
      "Réception d'un paquet ICMP Echo-Reply en provenance de 10.2.12.1\n"
     ]
    },
    {
     "data": {
      "text/plain": [
       "<Sniffed: TCP:0 UDP:0 ICMP:0 Other:0>"
      ]
     },
     "execution_count": 53,
     "metadata": {},
     "output_type": "execute_result"
    }
   ],
   "source": [
    "#from scapy.all import *\n",
    "ICMP_types={ 0 : 'Echo-Reply', 3 : 'Destination Unreachable', 8 : 'Echo'}\n",
    "def print_icmp (packet) :\n",
    "    type=packet[ICMP].type\n",
    "    ips=packet[IP].src\n",
    "    ipd=packet[IP].dst\n",
    "    if ips==iface_ip : # on regarde si l'IP source corespont ou non a notre interface pour determinée si c'est un paquet envoyer ou reçus.\n",
    "        print(f\"Emission d'un paquet ICMP {ICMP_types[type]} vers {ipd}\")\n",
    "    else :\n",
    "        print(f\"Réception d'un paquet ICMP {ICMP_types[type]} en provenance de {ips}\")\n",
    "iface_ip=get_if_addr(conf.iface)\n",
    "sniff(filter=\"icmp\", prn=print_icmp, store=0, iface=\"Wi-Fi\", count=4) # on recupére 4 paquets ICMP de l'interface de reseau du PC, pour chaque paquets, on apelle la fonction print_icmp"
   ]
  }
 ],
 "metadata": {
  "kernelspec": {
   "display_name": "base",
   "language": "python",
   "name": "python3"
  },
  "language_info": {
   "codemirror_mode": {
    "name": "ipython",
    "version": 3
   },
   "file_extension": ".py",
   "mimetype": "text/x-python",
   "name": "python",
   "nbconvert_exporter": "python",
   "pygments_lexer": "ipython3",
   "version": "3.12.7"
  }
 },
 "nbformat": 4,
 "nbformat_minor": 2
}
